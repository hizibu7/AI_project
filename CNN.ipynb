{
  "nbformat": 4,
  "nbformat_minor": 0,
  "metadata": {
    "colab": {
      "provenance": []
    },
    "kernelspec": {
      "name": "python3",
      "display_name": "Python 3"
    },
    "language_info": {
      "name": "python"
    }
  },
  "cells": [
    {
      "cell_type": "code",
      "execution_count": null,
      "metadata": {
        "colab": {
          "base_uri": "https://localhost:8080/"
        },
        "id": "64NosMvbD-o8",
        "outputId": "cba9b453-debd-4541-9934-205f62dd7773"
      },
      "outputs": [
        {
          "output_type": "stream",
          "name": "stdout",
          "text": [
            "2.14.0\n",
            "Downloading data from https://storage.googleapis.com/tensorflow/tf-keras-datasets/mnist.npz\n",
            "11490434/11490434 [==============================] - 0s 0us/step\n",
            "60000\n"
          ]
        }
      ],
      "source": [
        "import tensorflow as tf\n",
        "from tensorflow import keras\n",
        "\n",
        "import numpy as np\n",
        "import matplotlib.pyplot as plt\n",
        "\n",
        "print(tf.__version__)\n",
        "\n",
        "mnist = keras.datasets.mnist\n",
        "\n",
        "(x_train, y_train), (x_test, y_test) = mnist.load_data()\n",
        "\n",
        "print(len(x_train))"
      ]
    },
    {
      "cell_type": "code",
      "source": [
        "plt.imshow(x_train[1], cmap=plt.cm.binary)\n",
        "plt.show()\n",
        "\n",
        "print(y_train[1])"
      ],
      "metadata": {
        "colab": {
          "base_uri": "https://localhost:8080/",
          "height": 448
        },
        "id": "-WSMEiePE6pq",
        "outputId": "6f7009bd-f59a-43e2-8f2e-f2abc4f722d9"
      },
      "execution_count": null,
      "outputs": [
        {
          "output_type": "display_data",
          "data": {
            "text/plain": [
              "<Figure size 640x480 with 1 Axes>"
            ],
            "image/png": "[encoded data removed]"
          },
          "metadata": {}
        },
        {
          "output_type": "stream",
          "name": "stdout",
          "text": [
            "0\n"
          ]
        }
      ]
    },
    {
      "cell_type": "code",
      "source": [
        "print(x_train.shape)\n",
        "print(x_test.shape)"
      ],
      "metadata": {
        "colab": {
          "base_uri": "https://localhost:8080/"
        },
        "id": "LlCxHDsBGRlj",
        "outputId": "9430441f-3808-4641-d588-cce006f3eaec"
      },
      "execution_count": null,
      "outputs": [
        {
          "output_type": "stream",
          "name": "stdout",
          "text": [
            "(60000, 28, 28)\n",
            "(10000, 28, 28)\n"
          ]
        }
      ]
    },
    {
      "cell_type": "code",
      "source": [
        "x_train_norm = x_train/255.0\n",
        "x_test_norm = x_test/255.0\n",
        "print(np.min(x_train_norm), np.max(x_train_norm))"
      ],
      "metadata": {
        "colab": {
          "base_uri": "https://localhost:8080/"
        },
        "id": "hMh3KS5MHOaA",
        "outputId": "683b97a6-f43a-4150-e4c6-bdbf83ddacd2"
      },
      "execution_count": null,
      "outputs": [
        {
          "output_type": "stream",
          "name": "stdout",
          "text": [
            "0.0 1.0\n"
          ]
        }
      ]
    },
    {
      "cell_type": "code",
      "source": [
        "model = keras.models.Sequential()\n",
        "model.add(keras.layers.Conv2D(filters=32, kernel_size=(5,5), strides=(1,1), padding='same', activation='relu', input_shape=(28,28,1)))\n",
        "model.add(keras.layers.MaxPooling2D(pool_size=(2,2), strides=(2,2)))\n",
        "model.add(keras.layers.Conv2D(filters=64, kernel_size=(3,3), strides=(1,1), padding='same', activation='relu',))\n",
        "model.add(keras.layers.MaxPooling2D(pool_size=(2,2), strides=(2,2)))\n",
        "model.add(keras.layers.Dropout(0.3))\n",
        "model.add(keras.layers.Flatten())\n",
        "model.add(keras.layers.Dense(units=500, activation='relu'))\n",
        "model.add(keras.layers.Dropout(0.3))\n",
        "model.add(keras.layers.Dense(units=10, activation='softmax'))\n",
        "model.compile(loss='sparse_categorical_crossentropy', optimizer='adam', metrics=['accuracy'])"
      ],
      "metadata": {
        "id": "e__yox0KHcbG"
      },
      "execution_count": null,
      "outputs": []
    },
    {
      "cell_type": "code",
      "source": [
        "model.summary()"
      ],
      "metadata": {
        "colab": {
          "base_uri": "https://localhost:8080/"
        },
        "id": "x4pN-L9XMzls",
        "outputId": "d16b7aca-f444-4ec8-8cf5-153e6bf45530"
      },
      "execution_count": null,
      "outputs": [
        {
          "output_type": "stream",
          "name": "stdout",
          "text": [
            "Model: \"sequential_4\"\n",
            "_________________________________________________________________\n",
            " Layer (type)                Output Shape              Param #   \n",
            "=================================================================\n",
            " conv2d_6 (Conv2D)           (None, 28, 28, 32)        832       \n",
            "                                                                 \n",
            " max_pooling2d_6 (MaxPoolin  (None, 14, 14, 32)        0         \n",
            " g2D)                                                            \n",
            "                                                                 \n",
            " conv2d_7 (Conv2D)           (None, 14, 14, 64)        18496     \n",
            "                                                                 \n",
            " max_pooling2d_7 (MaxPoolin  (None, 7, 7, 64)          0         \n",
            " g2D)                                                            \n",
            "                                                                 \n",
            " dropout_3 (Dropout)         (None, 7, 7, 64)          0         \n",
            "                                                                 \n",
            " flatten_2 (Flatten)         (None, 3136)              0         \n",
            "                                                                 \n",
            " dense_2 (Dense)             (None, 500)               1568500   \n",
            "                                                                 \n",
            " dropout_4 (Dropout)         (None, 500)               0         \n",
            "                                                                 \n",
            " dense_3 (Dense)             (None, 10)                5010      \n",
            "                                                                 \n",
            "=================================================================\n",
            "Total params: 1592838 (6.08 MB)\n",
            "Trainable params: 1592838 (6.08 MB)\n",
            "Non-trainable params: 0 (0.00 Byte)\n",
            "_________________________________________________________________\n"
          ]
        }
      ]
    },
    {
      "cell_type": "code",
      "source": [
        "print(x_train_norm.shape)\n",
        "print(x_test_norm.shape)\n",
        "x_train_reshaped = x_train_norm.reshape(-1, 28, 28, 1)\n",
        "x_test_reshaped = x_test_norm.reshape(-1, 28, 28, 1)\n",
        "print(x_train_reshaped.shape)\n",
        "print(x_test_reshaped.shape)"
      ],
      "metadata": {
        "colab": {
          "base_uri": "https://localhost:8080/"
        },
        "id": "Tsl6EDcrNHcw",
        "outputId": "d2c47326-9fbf-407c-fb5a-c3f54f61c304"
      },
      "execution_count": null,
      "outputs": [
        {
          "output_type": "stream",
          "name": "stdout",
          "text": [
            "(60000, 28, 28)\n",
            "(10000, 28, 28)\n",
            "(60000, 28, 28, 1)\n",
            "(10000, 28, 28, 1)\n"
          ]
        }
      ]
    },
    {
      "cell_type": "code",
      "source": [
        "model.fit(x_train_reshaped, y_train, epochs=10, validation_data=(x_test, y_test))"
      ],
      "metadata": {
        "colab": {
          "base_uri": "https://localhost:8080/"
        },
        "id": "9pu9MvdLOB_g",
        "outputId": "3b3489b6-77cf-454f-f1b1-21ef182029ff"
      },
      "execution_count": null,
      "outputs": [
        {
          "output_type": "stream",
          "name": "stdout",
          "text": [
            "Epoch 1/10\n",
            "1875/1875 [==============================] - 71s 37ms/step - loss: 0.1290 - accuracy: 0.9591 - val_loss: 6.2425 - val_accuracy: 0.9865\n",
            "Epoch 2/10\n",
            "1875/1875 [==============================] - 69s 37ms/step - loss: 0.0520 - accuracy: 0.9839 - val_loss: 6.9243 - val_accuracy: 0.9873\n",
            "Epoch 3/10\n",
            "1875/1875 [==============================] - 71s 38ms/step - loss: 0.0387 - accuracy: 0.9879 - val_loss: 4.2255 - val_accuracy: 0.9912\n",
            "Epoch 4/10\n",
            "1875/1875 [==============================] - 70s 37ms/step - loss: 0.0319 - accuracy: 0.9902 - val_loss: 4.6259 - val_accuracy: 0.9916\n",
            "Epoch 5/10\n",
            "1875/1875 [==============================] - 70s 37ms/step - loss: 0.0271 - accuracy: 0.9915 - val_loss: 4.8002 - val_accuracy: 0.9919\n",
            "Epoch 6/10\n",
            "1875/1875 [==============================] - 70s 37ms/step - loss: 0.0229 - accuracy: 0.9927 - val_loss: 6.1844 - val_accuracy: 0.9898\n",
            "Epoch 7/10\n",
            "1875/1875 [==============================] - 70s 37ms/step - loss: 0.0197 - accuracy: 0.9934 - val_loss: 4.6591 - val_accuracy: 0.9928\n",
            "Epoch 8/10\n",
            "1875/1875 [==============================] - 71s 38ms/step - loss: 0.0181 - accuracy: 0.9944 - val_loss: 5.6052 - val_accuracy: 0.9923\n",
            "Epoch 9/10\n",
            "1875/1875 [==============================] - 70s 37ms/step - loss: 0.0159 - accuracy: 0.9948 - val_loss: 6.9001 - val_accuracy: 0.9917\n",
            "Epoch 10/10\n",
            "1875/1875 [==============================] - 71s 38ms/step - loss: 0.0130 - accuracy: 0.9959 - val_loss: 7.0250 - val_accuracy: 0.9927\n"
          ]
        },
        {
          "output_type": "execute_result",
          "data": {
            "text/plain": [
              "<keras.src.callbacks.History at 0x7e05d15a53f0>"
            ]
          },
          "metadata": {},
          "execution_count": 18
        }
      ]
    },
    {
      "cell_type": "code",
      "source": [
        "score = model.evaluate(x_test, y_test, verbose=0)\n",
        "print(score[1])"
      ],
      "metadata": {
        "colab": {
          "base_uri": "https://localhost:8080/"
        },
        "id": "niUiAuhORuLG",
        "outputId": "36dba6fb-f085-4032-c449-ea883463c4b5"
      },
      "execution_count": null,
      "outputs": [
        {
          "output_type": "stream",
          "name": "stdout",
          "text": [
            "0.9926999807357788\n"
          ]
        }
      ]
    },
    {
      "cell_type": "markdown",
      "source": [],
      "metadata": {
        "id": "18mldNFbEDcz"
      }
    }
  ]
}